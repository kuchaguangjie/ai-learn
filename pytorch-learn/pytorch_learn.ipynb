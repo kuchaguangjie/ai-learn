{
  "cells": [
    {
      "cell_type": "markdown",
      "metadata": {
        "id": "view-in-github",
        "colab_type": "text"
      },
      "source": [
        "<a href=\"https://colab.research.google.com/github/kuchaguangjie/ai-learn/blob/master/pytorch-learn/pytorch_learn.ipynb\" target=\"_parent\"><img src=\"https://colab.research.google.com/assets/colab-badge.svg\" alt=\"Open In Colab\"/></a>"
      ]
    },
    {
      "cell_type": "markdown",
      "source": [
        "<h2>Learn - pytorch</h2>"
      ],
      "metadata": {
        "id": "nxsR1rWUWSEi"
      }
    },
    {
      "cell_type": "code",
      "source": [
        "import numpy as np\n",
        "\n",
        "np.sort([1,3,2])"
      ],
      "metadata": {
        "id": "6U3aF9FYWaD0",
        "colab": {
          "base_uri": "https://localhost:8080/"
        },
        "outputId": "bcfe8606-9a12-4a43-8f32-1965eae54347"
      },
      "execution_count": null,
      "outputs": [
        {
          "output_type": "execute_result",
          "data": {
            "text/plain": [
              "array([1, 2, 3])"
            ]
          },
          "metadata": {},
          "execution_count": 1
        }
      ]
    },
    {
      "cell_type": "code",
      "source": [
        "import torch\n",
        "print(torch.__version__)\n"
      ],
      "metadata": {
        "id": "liXCVl17WsUC",
        "colab": {
          "base_uri": "https://localhost:8080/"
        },
        "outputId": "8e0dfd2e-a1d6-4ebd-b7bb-8f3977b33ff6"
      },
      "execution_count": null,
      "outputs": [
        {
          "output_type": "stream",
          "name": "stdout",
          "text": [
            "2.1.0+cu121\n"
          ]
        }
      ]
    },
    {
      "cell_type": "code",
      "source": [
        "!nvidia-smi\n",
        "!pwd"
      ],
      "metadata": {
        "id": "o2eETcknW7Gh",
        "colab": {
          "base_uri": "https://localhost:8080/"
        },
        "outputId": "7b2d4027-b174-4ea0-ceae-6eb596aaf527"
      },
      "execution_count": null,
      "outputs": [
        {
          "output_type": "stream",
          "name": "stdout",
          "text": [
            "Wed Mar  6 02:07:17 2024       \n",
            "+---------------------------------------------------------------------------------------+\n",
            "| NVIDIA-SMI 535.104.05             Driver Version: 535.104.05   CUDA Version: 12.2     |\n",
            "|-----------------------------------------+----------------------+----------------------+\n",
            "| GPU  Name                 Persistence-M | Bus-Id        Disp.A | Volatile Uncorr. ECC |\n",
            "| Fan  Temp   Perf          Pwr:Usage/Cap |         Memory-Usage | GPU-Util  Compute M. |\n",
            "|                                         |                      |               MIG M. |\n",
            "|=========================================+======================+======================|\n",
            "|   0  Tesla T4                       Off | 00000000:00:04.0 Off |                    0 |\n",
            "| N/A   56C    P8              10W /  70W |      0MiB / 15360MiB |      0%      Default |\n",
            "|                                         |                      |                  N/A |\n",
            "+-----------------------------------------+----------------------+----------------------+\n",
            "                                                                                         \n",
            "+---------------------------------------------------------------------------------------+\n",
            "| Processes:                                                                            |\n",
            "|  GPU   GI   CI        PID   Type   Process name                            GPU Memory |\n",
            "|        ID   ID                                                             Usage      |\n",
            "|=======================================================================================|\n",
            "|  No running processes found                                                           |\n",
            "+---------------------------------------------------------------------------------------+\n",
            "/content\n"
          ]
        }
      ]
    },
    {
      "cell_type": "markdown",
      "source": [
        "# tensor"
      ],
      "metadata": {
        "id": "jsdx4Po5ZOAK"
      }
    },
    {
      "cell_type": "code",
      "source": [
        "import torch\n",
        "sc = torch.tensor(7) # scala, 0d,\n",
        "# print(\"scalar item: \", sc.item())\n",
        "print(\"scalar ndim: \", sc.ndim) # dimension\n",
        "print(\"scalar shape: \", sc.shape) # size of each dimension,\n",
        "print()\n",
        "\n",
        "ve = torch.tensor([1,2,3]) # vector, 1d,\n",
        "print(\"vector ndim: \", ve.ndim)\n",
        "print(\"vector shape: \", ve.shape)\n",
        "print()\n",
        "\n",
        "ma = torch.tensor([[1,2,3],[4,5,6]]) # matrix, 2d,\n",
        "print(\"matrix ndim: \", ma.ndim)\n",
        "print(\"matrix shape: \", ma.shape)\n",
        "print()\n",
        "\n",
        "te = torch.tensor([[[1,2,3],[4,5,6]],\n",
        "                   [[2,4,6],[8,10,12]]]) # tensor, 3d,\n",
        "print(\"tensor ndim: \", te.ndim)\n",
        "print(\"tensor shape: \", te.shape)\n",
        "print()\n",
        "\n",
        "ra = torch.rand(2,3)\n",
        "print(f\"random tensor: {ra}\")\n",
        "print()\n"
      ],
      "metadata": {
        "colab": {
          "base_uri": "https://localhost:8080/"
        },
        "id": "zldlqThrZY3d",
        "outputId": "1f39784b-4ed0-49e5-be32-889fab2fe5fa"
      },
      "execution_count": null,
      "outputs": [
        {
          "output_type": "stream",
          "name": "stdout",
          "text": [
            "scalar ndim:  0\n",
            "scalar shape:  torch.Size([])\n",
            "\n",
            "vector ndim:  1\n",
            "vector shape:  torch.Size([3])\n",
            "\n",
            "matrix ndim:  2\n",
            "matrix shape:  torch.Size([2, 3])\n",
            "\n",
            "tensor ndim:  3\n",
            "tensor shape:  torch.Size([2, 2, 3])\n",
            "\n",
            "random tensor: tensor([[0.8470, 0.7985, 0.5831],\n",
            "        [0.1083, 0.3383, 0.0551]])\n",
            "\n"
          ]
        }
      ]
    },
    {
      "cell_type": "markdown",
      "source": [
        "# tensor - operation"
      ],
      "metadata": {
        "id": "z2UFJ0vw5mis"
      }
    },
    {
      "cell_type": "code",
      "source": [
        "arr = torch.tensor([1, 2, 3])\n",
        "print(f'arr: {arr}')\n",
        "print(f'arr*2 = {arr * 2}')\n",
        "print(f'arr+10 = {arr + 10}')\n",
        "print(f'arr-1 = {arr - 1}')\n",
        "print(f'arr/2 = {arr / 2}')\n",
        "print(f'arr%2 = {arr % 2}')\n",
        "\n",
        "print(f'arr + arr: {arr + arr}')\n",
        "\n",
        "print(f'arr * arr: {arr * arr}')\n"
      ],
      "metadata": {
        "colab": {
          "base_uri": "https://localhost:8080/"
        },
        "id": "dfiD0nlu5rSg",
        "outputId": "a54d399f-a1a0-4b2a-a1f8-40119b21966e"
      },
      "execution_count": null,
      "outputs": [
        {
          "output_type": "stream",
          "name": "stdout",
          "text": [
            "arr: tensor([1, 2, 3])\n",
            "arr*2 = tensor([2, 4, 6])\n",
            "arr+10 = tensor([11, 12, 13])\n",
            "arr-1 = tensor([0, 1, 2])\n",
            "arr/2 = tensor([0.5000, 1.0000, 1.5000])\n",
            "arr%2 = tensor([1, 0, 1])\n",
            "arr + arr: tensor([2, 4, 6])\n",
            "arr * arr: tensor([1, 4, 9])\n"
          ]
        }
      ]
    },
    {
      "cell_type": "markdown",
      "source": [
        "# tensor - operation - dot product"
      ],
      "metadata": {
        "id": "z3ndvFoNAxb1"
      }
    },
    {
      "cell_type": "code",
      "source": [
        "arr = torch.tensor([1, 2, 3])\n",
        "print(f'torch.matmul(arr, arr): {torch.matmul(arr, arr)}')\n",
        "print(f'arr@arr: {arr @ arr}')\n",
        "a1 = torch.rand(size=[2,3])\n",
        "a2 = torch.rand(size=[3,4])\n",
        "a3 = torch.rand(size=[2,3])\n",
        "b = a1 @ a2\n",
        "print(f'a1 @ a2 = {b}')\n",
        "print(f'{a1.shape} dot {a2.shape} = {b.shape}')\n",
        "\n",
        "print(f'b.T = {b.T}')\n",
        "print(f'b @ b.T = {b @ b.T}')\n"
      ],
      "metadata": {
        "colab": {
          "base_uri": "https://localhost:8080/"
        },
        "id": "ZTJFWkZCA9Ii",
        "outputId": "ce47263a-d2cc-4b6d-bc60-4f4ee0ae7a62"
      },
      "execution_count": null,
      "outputs": [
        {
          "output_type": "stream",
          "name": "stdout",
          "text": [
            "torch.matmul(arr, arr): 14\n",
            "arr@arr: 14\n",
            "a1 @ a2 = tensor([[0.6243, 0.7429, 0.3539, 0.8048],\n",
            "        [0.6550, 0.7463, 0.1633, 0.7538]])\n",
            "torch.Size([2, 3]) dot torch.Size([3, 4]) = torch.Size([2, 4])\n",
            "b.T = tensor([[0.6243, 0.6550],\n",
            "        [0.7429, 0.7463],\n",
            "        [0.3539, 0.1633],\n",
            "        [0.8048, 0.7538]])\n",
            "b @ b.T = tensor([[1.7145, 1.6278],\n",
            "        [1.6278, 1.5809]])\n"
          ]
        }
      ]
    },
    {
      "cell_type": "markdown",
      "source": [
        "# cuda (GPU)"
      ],
      "metadata": {
        "id": "dbZa9voR0fTi"
      }
    },
    {
      "cell_type": "code",
      "source": [
        "import torch\n",
        "\n",
        "device = \"cuda\" if torch.cuda.is_available() else \"cpu\"\n",
        "print(f'device: {device}')\n",
        "\n",
        "print(f'device count: {torch.cuda.device_count()}')\n",
        "\n",
        "t = torch.tensor([1, 2, 3])\n",
        "print(t, t.device)\n",
        "\n",
        "t_on_gpu = t.to('cuda')\n",
        "print(t_on_gpu)\n",
        "\n",
        "t_on_cpu = t.cpu()\n",
        "print(t_on_cpu)\n"
      ],
      "metadata": {
        "colab": {
          "base_uri": "https://localhost:8080/"
        },
        "id": "hO1DZ5520p1q",
        "outputId": "6d4f17d2-cd53-4637-ac86-d2220d2f26c6"
      },
      "execution_count": null,
      "outputs": [
        {
          "output_type": "stream",
          "name": "stdout",
          "text": [
            "device: cuda\n",
            "device count: 1\n",
            "tensor([1, 2, 3]) cpu\n",
            "tensor([1, 2, 3], device='cuda:0')\n",
            "tensor([1, 2, 3])\n"
          ]
        }
      ]
    },
    {
      "cell_type": "markdown",
      "source": [
        "# Workflow"
      ],
      "metadata": {
        "id": "HWKHfdnV8Ybw"
      }
    },
    {
      "cell_type": "markdown",
      "source": [
        "prepare data:"
      ],
      "metadata": {
        "id": "BSBdt8eB8wlZ"
      }
    },
    {
      "cell_type": "code",
      "source": [
        "#!/usr/bin/env python3\n",
        "import torch\n",
        "from torch import nn # nn contains all of PyTorch's building blocks for neural networks\n",
        "import matplotlib.pyplot as plt\n",
        "\n",
        "# Check PyTorch version\n",
        "torch.__version__\n",
        "\n",
        "weight = 0.7\n",
        "bias = 0.3\n",
        "\n",
        "# Create data\n",
        "start = 0\n",
        "end = 1\n",
        "step = 0.02\n",
        "X = torch.arange(start, end, step).unsqueeze(dim=1)\n",
        "y = weight * X + bias\n",
        "\n",
        "X[:10], y[:10]\n",
        "\n",
        "\n",
        "# Create train/test split\n",
        "train_split = int(0.8 * len(X)) # 80% of data used for training set, 20% for testing\n",
        "X_train, y_train = X[:train_split], y[:train_split]\n",
        "X_test, y_test = X[train_split:], y[train_split:]\n",
        "\n",
        "len(X_train), len(y_train), len(X_test), len(y_test)\n",
        "\n",
        "\n",
        "def plot_predictions(train_data=X_train, train_labels=y_train, test_data=X_test, test_labels=y_test, predictions=None):\n",
        "\tplt.figure(figsize=(10, 7))\n",
        "\n",
        "\t# Plot training data in blue\n",
        "\tplt.scatter(train_data, train_labels, c=\"b\", s=4, label=\"Training data\")\n",
        "\n",
        "\t# Plot test data in green\n",
        "\tplt.scatter(test_data, test_labels, c=\"g\", s=4, label=\"Testing data\")\n",
        "\n",
        "\tif predictions is not None:\n",
        "\t\t# Plot the predictions in red (predictions were made on the test data)\n",
        "\t\tplt.scatter(test_data, predictions, c=\"r\", s=4, label=\"Predictions\")\n",
        "\n",
        "\t# Show the legend\n",
        "\tplt.legend(prop={\"size\": 14});\n",
        "\n",
        "plot_predictions();\n",
        "\n"
      ],
      "metadata": {
        "colab": {
          "base_uri": "https://localhost:8080/",
          "height": 599
        },
        "id": "Mh6J2SSH8nIC",
        "outputId": "bb0132b4-0634-4a75-de82-0fe6d107281f"
      },
      "execution_count": null,
      "outputs": [
        {
          "output_type": "display_data",
          "data": {
            "text/plain": [
              "<Figure size 1000x700 with 1 Axes>"
            ],
            "image/png": "[encoded data removed]"
          },
          "metadata": {}
        }
      ]
    },
    {
      "cell_type": "markdown",
      "source": [
        "Define model:"
      ],
      "metadata": {
        "id": "JOgrbANG2zov"
      }
    },
    {
      "cell_type": "code",
      "source": [
        "# Create a Linear Regression model class\n",
        "class LinearRegressionModel(nn.Module): # <- almost everything in PyTorch is a nn.Module (think of this as neural network lego blocks)\n",
        "    def __init__(self):\n",
        "        super().__init__()\n",
        "        self.weights = nn.Parameter(torch.randn(1, # <- start with random weights (this will get adjusted as the model learns)\n",
        "                                   dtype=torch.float), # <- PyTorch loves float32 by default\n",
        "                                   requires_grad=True) # <- can we update this value with gradient descent?)\n",
        "\n",
        "        self.bias = nn.Parameter(torch.randn(1, # <- start with random bias (this will get adjusted as the model learns)\n",
        "                                   dtype=torch.float), # <- PyTorch loves float32 by default\n",
        "                                   requires_grad=True) # <- can we update this value with gradient descent?))\n",
        "\n",
        "    # Forward defines the computation in the model\n",
        "    def forward(self, x: torch.Tensor) -> torch.Tensor: # <- \"x\" is the input data (e.g. training/testing features)\n",
        "        return self.weights * x + self.bias # <- this is the linear regression formula (y = m*x + b)\n"
      ],
      "metadata": {
        "id": "UzFlfzqL2yRg"
      },
      "execution_count": null,
      "outputs": []
    },
    {
      "cell_type": "markdown",
      "source": [
        "Train model:"
      ],
      "metadata": {
        "id": "z0BiRrku9aNC"
      }
    },
    {
      "cell_type": "code",
      "source": [
        "\n",
        "torch.manual_seed(42)\n",
        "\n",
        "# create module\n",
        "model_0 = LinearRegressionModel()\n",
        "\n",
        "# Create the loss function\n",
        "loss_fn = nn.L1Loss() # MAE loss is same as L1Loss\n",
        "\n",
        "# Create the optimizer\n",
        "optimizer = torch.optim.SGD(params=model_0.parameters(), # parameters of target model to optimize\n",
        "                            lr=0.001) # learning rate (how much the optimizer should change parameters at each step, higher=more (less stable), lower=less (might take a long time))\n",
        "\n",
        "# Set the number of epochs (how many times the model will pass over the training data)\n",
        "epochs = 100\n",
        "\n",
        "# Create empty loss lists to track values\n",
        "train_loss_values = []\n",
        "test_loss_values = []\n",
        "epoch_count = []\n",
        "\n",
        "for epoch in range(epochs):\n",
        "    ### Training\n",
        "\n",
        "    # Put model in training mode (this is the default state of a model)\n",
        "    model_0.train()\n",
        "\n",
        "    # 1. Forward pass on train data using the forward() method inside\n",
        "    y_pred = model_0(X_train)\n",
        "    # print(y_pred)\n",
        "\n",
        "    # 2. Calculate the loss (how different are our models predictions to the ground truth)\n",
        "    loss = loss_fn(y_pred, y_train)\n",
        "\n",
        "    # 3. Zero grad of the optimizer\n",
        "    optimizer.zero_grad()\n",
        "\n",
        "    # 4. Loss backwards\n",
        "    loss.backward()\n",
        "\n",
        "    # 5. Progress the optimizer\n",
        "    optimizer.step()\n",
        "\n",
        "    ### Testing\n",
        "\n",
        "    # Put the model in evaluation mode\n",
        "    model_0.eval()\n",
        "\n",
        "    with torch.inference_mode():\n",
        "      # 1. Forward pass on test data\n",
        "      test_pred = model_0(X_test)\n",
        "\n",
        "      # 2. Caculate loss on test data\n",
        "      test_loss = loss_fn(test_pred, y_test.type(torch.float)) # predictions come in torch.float datatype, so comparisons need to be done with tensors of the same type\n",
        "\n",
        "      # Print out what's happening\n",
        "      if epoch % 10 == 0:\n",
        "            epoch_count.append(epoch)\n",
        "            train_loss_values.append(loss.detach().numpy())\n",
        "            test_loss_values.append(test_loss.detach().numpy())\n",
        "            print(f\"Epoch: {epoch} | MAE Train Loss: {loss} | MAE Test Loss: {test_loss} \")\n",
        "\n",
        "# Plot the loss curves\n",
        "plt.plot(epoch_count, train_loss_values, label=\"Train loss\")\n",
        "plt.plot(epoch_count, test_loss_values, label=\"Test loss\")\n",
        "plt.title(\"Training and test loss curves\")\n",
        "plt.ylabel(\"Loss\")\n",
        "plt.xlabel(\"Epochs\")\n",
        "plt.legend();"
      ],
      "metadata": {
        "colab": {
          "base_uri": "https://localhost:8080/",
          "height": 646
        },
        "id": "GTX91ivg8-I_",
        "outputId": "5ab36778-5d33-485d-932a-ce6f03bda02f"
      },
      "execution_count": null,
      "outputs": [
        {
          "output_type": "stream",
          "name": "stdout",
          "text": [
            "Epoch: 0 | MAE Train Loss: 0.31288138031959534 | MAE Test Loss: 0.4931890368461609 \n",
            "Epoch: 10 | MAE Train Loss: 0.3013603389263153 | MAE Test Loss: 0.4797181189060211 \n",
            "Epoch: 20 | MAE Train Loss: 0.28983938694000244 | MAE Test Loss: 0.4662471413612366 \n",
            "Epoch: 30 | MAE Train Loss: 0.2783183455467224 | MAE Test Loss: 0.4527761936187744 \n",
            "Epoch: 40 | MAE Train Loss: 0.26679736375808716 | MAE Test Loss: 0.43930521607398987 \n",
            "Epoch: 50 | MAE Train Loss: 0.2552763819694519 | MAE Test Loss: 0.4258342385292053 \n",
            "Epoch: 60 | MAE Train Loss: 0.24375538527965546 | MAE Test Loss: 0.41236335039138794 \n",
            "Epoch: 70 | MAE Train Loss: 0.232234388589859 | MAE Test Loss: 0.398892343044281 \n",
            "Epoch: 80 | MAE Train Loss: 0.22071340680122375 | MAE Test Loss: 0.38542139530181885 \n",
            "Epoch: 90 | MAE Train Loss: 0.2091923952102661 | MAE Test Loss: 0.3719504475593567 \n"
          ]
        },
        {
          "output_type": "display_data",
          "data": {
            "text/plain": [
              "<Figure size 640x480 with 1 Axes>"
            ],
            "image/png": "[encoded data removed]"
          },
          "metadata": {}
        }
      ]
    },
    {
      "cell_type": "markdown",
      "source": [
        "Make prediction (trained):"
      ],
      "metadata": {
        "id": "spBxAtao9BPG"
      }
    },
    {
      "cell_type": "code",
      "source": [
        "# 1. Set the model in evaluation mode\n",
        "model_0.eval()\n",
        "\n",
        "# 2. Setup the inference mode context manager\n",
        "with torch.inference_mode():\n",
        "  # 3. Make sure the calculations are done with the model and data on the same device\n",
        "  # in our case, we haven't setup device-agnostic code yet so our data and model are\n",
        "  # on the CPU by default.\n",
        "  # model_0.to(device)\n",
        "  # X_test = X_test.to(device)\n",
        "  y_preds = model_0(X_test)\n",
        "y_preds\n",
        "plot_predictions(predictions=y_preds)"
      ],
      "metadata": {
        "colab": {
          "base_uri": "https://localhost:8080/",
          "height": 599
        },
        "id": "RCS4T5gM9ga6",
        "outputId": "4bd3af37-8b34-4a65-cf6d-ac81b1c6b3cc"
      },
      "execution_count": null,
      "outputs": [
        {
          "output_type": "display_data",
          "data": {
            "text/plain": [
              "<Figure size 1000x700 with 1 Axes>"
            ],
            "image/png": "[encoded data removed]"
          },
          "metadata": {}
        }
      ]
    },
    {
      "cell_type": "markdown",
      "source": [
        "Save model:"
      ],
      "metadata": {
        "id": "6M5fqchSlidU"
      }
    },
    {
      "cell_type": "code",
      "source": [
        "from pathlib import Path\n",
        "\n",
        "# 1. Create models directory\n",
        "MODEL_PATH = Path(\"models\")\n",
        "MODEL_PATH.mkdir(parents=True, exist_ok=True)\n",
        "\n",
        "# 2. Create model save path\n",
        "MODEL_NAME = \"01_pytorch_workflow_model_0.pth\"\n",
        "MODEL_SAVE_PATH = MODEL_PATH / MODEL_NAME\n",
        "\n",
        "# 3. Save the model state dict\n",
        "print(f\"Saving model to: {MODEL_SAVE_PATH}\")\n",
        "torch.save(obj=model_0.state_dict(), # only saving the state_dict() only saves the models learned parameters\n",
        "           f=MODEL_SAVE_PATH)"
      ],
      "metadata": {
        "colab": {
          "base_uri": "https://localhost:8080/"
        },
        "id": "nGeJZMuKlVN4",
        "outputId": "6853b7ff-b76a-4c16-ce59-0888b07b5ef7"
      },
      "execution_count": null,
      "outputs": [
        {
          "output_type": "stream",
          "name": "stdout",
          "text": [
            "Saving model to: models/01_pytorch_workflow_model_0.pth\n"
          ]
        }
      ]
    },
    {
      "cell_type": "markdown",
      "source": [
        "Load model:"
      ],
      "metadata": {
        "id": "z4NvHITblzpV"
      }
    },
    {
      "cell_type": "code",
      "source": [
        "# Instantiate a new instance of our model (this will be instantiated with random weights)\n",
        "loaded_model_0 = LinearRegressionModel()\n",
        "\n",
        "# Load the state_dict of our saved model (this will update the new instance of our model with trained weights)\n",
        "loaded_model_0.load_state_dict(torch.load(f=MODEL_SAVE_PATH))\n"
      ],
      "metadata": {
        "colab": {
          "base_uri": "https://localhost:8080/"
        },
        "id": "PIT7g0Jfl1Fm",
        "outputId": "fa02d03f-a634-43c8-fd0d-c957dbee898f"
      },
      "execution_count": null,
      "outputs": [
        {
          "output_type": "execute_result",
          "data": {
            "text/plain": [
              "<All keys matched successfully>"
            ]
          },
          "metadata": {},
          "execution_count": 14
        }
      ]
    },
    {
      "cell_type": "markdown",
      "source": [
        "Use loaded model:"
      ],
      "metadata": {
        "id": "brY3x66jl8Xm"
      }
    },
    {
      "cell_type": "code",
      "source": [
        "\n",
        "# 1. Put the loaded model into evaluation mode\n",
        "loaded_model_0.eval()\n",
        "\n",
        "# 2. Use the inference mode context manager to make predictions\n",
        "with torch.inference_mode():\n",
        "    loaded_model_preds = loaded_model_0(X_test) # perform a forward pass on the test data with the loaded model\n",
        "\n",
        "# Compare previous model predictions with loaded model predictions (these should be the same)\n",
        "y_preds == loaded_model_preds"
      ],
      "metadata": {
        "colab": {
          "base_uri": "https://localhost:8080/"
        },
        "id": "u1uiXDCkl9xG",
        "outputId": "29a65029-92f0-472c-a16e-c0878d51432b"
      },
      "execution_count": null,
      "outputs": [
        {
          "output_type": "execute_result",
          "data": {
            "text/plain": [
              "tensor([[True],\n",
              "        [True],\n",
              "        [True],\n",
              "        [True],\n",
              "        [True],\n",
              "        [True],\n",
              "        [True],\n",
              "        [True],\n",
              "        [True],\n",
              "        [True]])"
            ]
          },
          "metadata": {},
          "execution_count": 16
        }
      ]
    }
  ],
  "metadata": {
    "colab": {
      "toc_visible": true,
      "provenance": [],
      "gpuType": "T4",
      "include_colab_link": true
    },
    "kernelspec": {
      "display_name": "Python 3",
      "name": "python3"
    },
    "accelerator": "GPU"
  },
  "nbformat": 4,
  "nbformat_minor": 0
}